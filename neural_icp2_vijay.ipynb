{
  "nbformat": 4,
  "nbformat_minor": 0,
  "metadata": {
    "colab": {
      "provenance": []
    },
    "kernelspec": {
      "name": "python3",
      "display_name": "Python 3"
    },
    "language_info": {
      "name": "python"
    }
  },
  "cells": [
    {
      "cell_type": "markdown",
      "source": [
        "1. Create a class Employee and then do the following\n",
        "• Create a data member to count the number of Employees\n",
        "• Create a constructor to initialize name, family, salary, department\n",
        "• Create a function to average salary\n",
        "• Create a Fulltime Employee class and it should inherit the properties of Employee class\n",
        "• Create the instances of Fulltime Employee class and Employee class and call their member functions."
      ],
      "metadata": {
        "id": "L1ICNTqFpyzJ"
      }
    },
    {
      "cell_type": "code",
      "source": [
        "class Employee:\n",
        "    employee_count = 0  # Data member to count the number of Employees\n",
        "\n",
        "    def __init__(self, name, family, salary, department):\n",
        "        self.name = name\n",
        "        self.family = family\n",
        "        self.salary = salary\n",
        "        self.department = department\n",
        "        Employee.employee_count += 1\n",
        "\n",
        "    def average_salary(self, total_salary):\n",
        "        return total_salary / Employee.employee_count\n",
        "\n",
        "class FulltimeEmployee(Employee):\n",
        "    # Inheriting properties from the Employee class\n",
        "    pass\n",
        "\n",
        "# Creating instances of Employee class\n",
        "employee1 = Employee(\"tarak\", \"nandamuri\", 500000, \"HR\")\n",
        "employee2 = Employee(\"charan\", \"konidela\", 80000, \"IT\")\n",
        "\n",
        "# Creating instances of FulltimeEmployee class\n",
        "fulltime_employee1 = FulltimeEmployee(\"chay\", \"akkeneni\", 50000, \"Finance\")\n",
        "fulltime_employee2 = FulltimeEmployee(\"akhil\", \"nalabolu\", 90000, \"Marketing\")\n",
        "\n",
        "# Calling member functions\n",
        "total_salary_employees = employee1.salary + employee2.salary\n",
        "average_salary_employees = employee1.average_salary(total_salary_employees)\n",
        "\n",
        "total_salary_fulltime_employees = fulltime_employee1.salary + fulltime_employee2.salary\n",
        "average_salary_fulltime_employees = fulltime_employee1.average_salary(total_salary_fulltime_employees)\n",
        "\n",
        "# Displaying results\n",
        "print(\"Average Salary for Employees:\", average_salary_employees)\n",
        "print(\"Average Salary for Fulltime Employees:\", average_salary_fulltime_employees)\n"
      ],
      "metadata": {
        "colab": {
          "base_uri": "https://localhost:8080/"
        },
        "id": "LqSrIVcep-nB",
        "outputId": "b5375e52-282f-49e9-d518-c3e3aec6319e"
      },
      "execution_count": 2,
      "outputs": [
        {
          "output_type": "stream",
          "name": "stdout",
          "text": [
            "Average Salary for Employees: 145000.0\n",
            "Average Salary for Fulltime Employees: 35000.0\n"
          ]
        }
      ]
    },
    {
      "cell_type": "markdown",
      "source": [
        "2. Numpy\n",
        "Using NumPy create random vector of size 20 having only float in the range 1-20.\n",
        "Then reshape the array to 4 by 5\n",
        "Then replace the max in each row by 0 (axis=1)"
      ],
      "metadata": {
        "id": "gG6jYNeSqcXq"
      }
    },
    {
      "cell_type": "code",
      "source": [
        "# Import the NumPy library and alias it as 'np' for brevity and convention.\n",
        "import numpy as np\n",
        "\n",
        "# Create a random vector of size 20 with floats in the range 1-20\n",
        "random_vector = np.random.uniform(1, 20, 20)\n",
        "\n",
        "print(\"Original Random Vector:\\n\", random_vector)"
      ],
      "metadata": {
        "colab": {
          "base_uri": "https://localhost:8080/"
        },
        "id": "myRX7Fx8qiZv",
        "outputId": "bb239490-dc6c-4ab4-bb25-902d9b45dc5b"
      },
      "execution_count": 3,
      "outputs": [
        {
          "output_type": "stream",
          "name": "stdout",
          "text": [
            "Original Random Vector:\n",
            " [15.76197542  9.08749031 14.31240116  7.03564316  7.8077146   4.32096153\n",
            " 13.9184916   3.3040662  19.44058611  6.26122328 12.91380131  8.88618823\n",
            "  4.10382004  8.48407706 15.96550348 11.99378757 18.41118827  3.40834627\n",
            " 19.4365328  14.90734053]\n"
          ]
        }
      ]
    },
    {
      "cell_type": "code",
      "source": [
        "# Reshape the array to 4 by 5 (4 rows and 5 columns)\n",
        "reshaped_array = random_vector.reshape(4, 5)\n",
        "\n",
        "print(reshaped_array)"
      ],
      "metadata": {
        "colab": {
          "base_uri": "https://localhost:8080/"
        },
        "id": "sOaAjksZqtlX",
        "outputId": "48778cdf-299d-4c40-8f6c-1ede3c9466bf"
      },
      "execution_count": 4,
      "outputs": [
        {
          "output_type": "stream",
          "name": "stdout",
          "text": [
            "[[15.76197542  9.08749031 14.31240116  7.03564316  7.8077146 ]\n",
            " [ 4.32096153 13.9184916   3.3040662  19.44058611  6.26122328]\n",
            " [12.91380131  8.88618823  4.10382004  8.48407706 15.96550348]\n",
            " [11.99378757 18.41118827  3.40834627 19.4365328  14.90734053]]\n"
          ]
        }
      ]
    },
    {
      "cell_type": "code",
      "source": [
        "# Replace the max in each row by 0 (axis=1)\n",
        "reshaped_array[np.arange(4), reshaped_array.argmax(axis=1)] = 0\n",
        "\n",
        "print(\"Reshaped Array:\\n\", reshaped_array)"
      ],
      "metadata": {
        "colab": {
          "base_uri": "https://localhost:8080/"
        },
        "id": "FwF-u9iJqzGx",
        "outputId": "b2f32842-66bd-4edd-dbe2-07756bad2959"
      },
      "execution_count": 5,
      "outputs": [
        {
          "output_type": "stream",
          "name": "stdout",
          "text": [
            "Reshaped Array:\n",
            " [[ 0.          9.08749031 14.31240116  7.03564316  7.8077146 ]\n",
            " [ 4.32096153 13.9184916   3.3040662   0.          6.26122328]\n",
            " [12.91380131  8.88618823  4.10382004  8.48407706  0.        ]\n",
            " [11.99378757 18.41118827  3.40834627  0.         14.90734053]]\n"
          ]
        }
      ]
    },
    {
      "cell_type": "markdown",
      "source": [
        "video link:https://drive.google.com/file/d/1jzpQ7cvuWkIhYFfVKp7dPV7MHsZ-irD0/view?usp=drive_link"
      ],
      "metadata": {
        "id": "utLSUoe0rnG9"
      }
    }
  ]
}